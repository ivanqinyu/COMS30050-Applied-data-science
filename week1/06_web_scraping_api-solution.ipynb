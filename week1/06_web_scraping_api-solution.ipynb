{
 "cells": [
  {
   "cell_type": "markdown",
   "metadata": {},
   "source": [
    "# The Guardian API\n",
    "\n",
    "In the `05_web_scraping_beautiful_soup.ipynb` notebook, we saw examples on how BeautifulSoup can be used \n",
    "to parse messy HTML, to extract information, and to act as a rudimentary web crawler. \n",
    "We used The Guardian as an illustrative example about how this can be achieved. \n",
    "The reason for choosing The Guardian was because they provide a REST API to their servers. \n",
    "With the REST API it is possible to perform specific queries on their servers, and to receive \n",
    "current information from their servers according to their API guide (ie in JSON)\n",
    "\n",
    "http://open-platform.theguardian.com/\n",
    "\n",
    "In order to use their API, you will need to register for an API key. \n",
    "At the time of writing (Jan 28, 2020) this was an automated process that can be completed at \n",
    "\n",
    "https://bonobo.capi.gutools.co.uk/register/developer\n",
    "\n",
    "On registration you will receive an API key which will look like: 303qwe2k-xxxx-xxxx-xxxx-eff86a248059\n",
    "\n",
    "The API is documented here: \n",
    "\n",
    "http://open-platform.theguardian.com/documentation/\n",
    "\n",
    "and Python bindings to their API are provided by The Guardian here\n",
    "\n",
    "https://github.com/prabhath6/theguardian-api-python\n",
    "\n",
    "and these can easily be integrated into a web-crawler based on API calls, rather than being based \n",
    "on HTML parsing, etc. \n",
    "\n",
    "We use four parameters in our queries here: \n",
    "\n",
    "1. `section`: the section of the newspaper that we are interested in querying. In this case we will look at \n",
    "the technology section \n",
    "\n",
    "2. `order-by`: We have specified that the newest items should be closer to the front of the query list \n",
    "\n",
    "3. `api-key`: In this notebook, the api-key is left as `test` (works here), but for *real* deployment of such a spider an API key obtained from Guardian should be specified. For the lab tasks, you should replace `test` API key with your personal API key. \n",
    "\n",
    "4. `page-size`: The number of results to return. "
   ]
  },
  {
   "cell_type": "code",
   "execution_count": 1,
   "metadata": {},
   "outputs": [],
   "source": [
    "from __future__ import print_function\n",
    "\n",
    "import requests \n",
    "import json "
   ]
  },
  {
   "cell_type": "markdown",
   "metadata": {},
   "source": [
    "Hard coding a secret such as a password or a key in a code file is a security smell. Instead of hard coding your api-key, you should store your api-key in a config file."
   ]
  },
  {
   "cell_type": "markdown",
   "metadata": {},
   "source": [
    "# Fetch Api-Key from Config File \n",
    "#### Note: You need to create a config file with your API your api-key and place it under the same directory as this notebook, otherwise the code block below will not work \n",
    "\n",
    "The content on my config file looks like below: \n",
    "\n",
    "```\n",
    "[guardian]\n",
    "api-key=303qwe2k-xxxx-xxxx-xxxx-eff86a248059\n",
    "```\n",
    "\n",
    "My config file is named: ```myconfig.cfg```\n",
    "\n",
    "Note: The api-key above is not a real Guardian api-key. If you use that, you will get an error. "
   ]
  },
  {
   "cell_type": "code",
   "execution_count": 2,
   "metadata": {},
   "outputs": [],
   "source": [
    "from configparser import ConfigParser\n",
    "\n",
    "parser = ConfigParser()\n",
    "parser.read('./myconfig.cfg')\n",
    "\n",
    "myapikey = parser.get('guardian', 'api-key')\n",
    "\n",
    "# If you cannot create a config file, comment the three lines above and uncomment the line below.\n",
    "\n",
    "# myapikey = '303qwe2k-xxxx-xxxx-xxxx-eff86a248059' # Replace with your api-key. This is not a real api-key.\n",
    "# print(myapikey)"
   ]
  },
  {
   "cell_type": "markdown",
   "metadata": {},
   "source": [
    "# Inspect all sections and search for technology-based sections"
   ]
  },
  {
   "cell_type": "code",
   "execution_count": 3,
   "metadata": {},
   "outputs": [],
   "source": [
    "url = 'https://content.guardianapis.com/sections?api-key=' + myapikey\n",
    "req = requests.get(url)\n",
    "src = req.text "
   ]
  },
  {
   "cell_type": "code",
   "execution_count": 4,
   "metadata": {
    "scrolled": true
   },
   "outputs": [
    {
     "data": {
      "text/plain": [
       "'ok'"
      ]
     },
     "execution_count": 4,
     "metadata": {},
     "output_type": "execute_result"
    }
   ],
   "source": [
    "json.loads(src)['response']['status']"
   ]
  },
  {
   "cell_type": "code",
   "execution_count": 5,
   "metadata": {},
   "outputs": [
    {
     "name": "stdout",
     "output_type": "stream",
     "text": [
      "dict_keys(['status', 'userTier', 'total', 'results'])\n"
     ]
    }
   ],
   "source": [
    "sections = json.loads(src)['response']\n",
    "\n",
    "print(sections.keys())"
   ]
  },
  {
   "cell_type": "code",
   "execution_count": 6,
   "metadata": {},
   "outputs": [
    {
     "name": "stdout",
     "output_type": "stream",
     "text": [
      "{\n",
      "  \"apiUrl\": \"https://content.guardianapis.com/about\",\n",
      "  \"editions\": [\n",
      "    {\n",
      "      \"apiUrl\": \"https://content.guardianapis.com/about\",\n",
      "      \"code\": \"default\",\n",
      "      \"id\": \"about\",\n",
      "      \"webTitle\": \"About\",\n",
      "      \"webUrl\": \"https://www.theguardian.com/about\"\n",
      "    }\n",
      "  ],\n",
      "  \"id\": \"about\",\n",
      "  \"webTitle\": \"About\",\n",
      "  \"webUrl\": \"https://www.theguardian.com/about\"\n",
      "}\n"
     ]
    }
   ],
   "source": [
    "print(json.dumps(sections['results'][0], indent=2, sort_keys=True))"
   ]
  },
  {
   "cell_type": "code",
   "execution_count": 7,
   "metadata": {},
   "outputs": [
    {
     "name": "stdout",
     "output_type": "stream",
     "text": [
      "Technology https://content.guardianapis.com/technology\n"
     ]
    }
   ],
   "source": [
    "for result in sections['results']: \n",
    "    if 'tech' in result['id'].lower(): \n",
    "        print(result['webTitle'], result['apiUrl'])"
   ]
  },
  {
   "cell_type": "markdown",
   "metadata": {},
   "source": [
    "# Manual query on whole API"
   ]
  },
  {
   "cell_type": "code",
   "execution_count": 8,
   "metadata": {},
   "outputs": [],
   "source": [
    "# Specify the arguments\n",
    "args = {\n",
    "    'section': 'technology', \n",
    "    'order-by': 'newest', \n",
    "    'api-key': myapikey, \n",
    "    'page-size': '100',\n",
    "#     'q' : 'privacy%20AND%20data'\n",
    "}\n",
    "\n",
    "# Construct the URL\n",
    "base_url = 'http://content.guardianapis.com/search'\n",
    "url = '{}?{}'.format(\n",
    "    base_url, \n",
    "    '&'.join([\"{}={}\".format(kk, vv) for kk, vv in args.items()])\n",
    ")\n",
    "\n",
    "# Make the request and extract the source\n",
    "req = requests.get(url) \n",
    "src = req.text"
   ]
  },
  {
   "cell_type": "code",
   "execution_count": 9,
   "metadata": {},
   "outputs": [
    {
     "name": "stdout",
     "output_type": "stream",
     "text": [
      "Number of byes received: 59882\n"
     ]
    }
   ],
   "source": [
    "print('Number of byes received:', len(src))"
   ]
  },
  {
   "cell_type": "markdown",
   "metadata": {},
   "source": [
    "The API returns JSON, so we parse this using the in-built JSON library. \n",
    "The API specifies that all data are returned within the `response` key, even under failure. \n",
    "Thereofre, I have immediately descended to the response field "
   ]
  },
  {
   "cell_type": "markdown",
   "metadata": {},
   "source": [
    "# Parsing the JSON"
   ]
  },
  {
   "cell_type": "code",
   "execution_count": 10,
   "metadata": {},
   "outputs": [
    {
     "name": "stdout",
     "output_type": "stream",
     "text": [
      "The following are available:\n",
      "  ['currentPage', 'orderBy', 'pageSize', 'pages', 'results', 'startIndex', 'status', 'total', 'userTier']\n"
     ]
    }
   ],
   "source": [
    "response = json.loads(src)['response']\n",
    "print('The following are available:\\n ', sorted(response.keys()))"
   ]
  },
  {
   "cell_type": "markdown",
   "metadata": {},
   "source": [
    "# Verifying the status code\n",
    "\n",
    "It is important to verify that the status message is `ok` before continuing - if it is not `ok` no 'real' data \n",
    "will have been received. "
   ]
  },
  {
   "cell_type": "code",
   "execution_count": 11,
   "metadata": {},
   "outputs": [],
   "source": [
    "assert response['status'] == 'ok'"
   ]
  },
  {
   "cell_type": "markdown",
   "metadata": {},
   "source": [
    "# Listing the results \n",
    "\n",
    "The API standard states that the results will be found in the `results` field under the `response` field. \n",
    "Furthermore, the URLs will be found in the `webUrl` field, and the title will be found in the `webTitle` \n",
    "field. \n",
    "\n",
    "First let's look to see what a single result looks like in full, and then I will print a restricted \n",
    "set of parameters on the full set of results ."
   ]
  },
  {
   "cell_type": "code",
   "execution_count": 12,
   "metadata": {},
   "outputs": [
    {
     "name": "stdout",
     "output_type": "stream",
     "text": [
      "{\n",
      "  \"apiUrl\": \"https://content.guardianapis.com/technology/2021/feb/07/are-share-trading-apps-a-safe-way-to-play-the-markets\",\n",
      "  \"id\": \"technology/2021/feb/07/are-share-trading-apps-a-safe-way-to-play-the-markets\",\n",
      "  \"isHosted\": false,\n",
      "  \"pillarId\": \"pillar/news\",\n",
      "  \"pillarName\": \"News\",\n",
      "  \"sectionId\": \"technology\",\n",
      "  \"sectionName\": \"Technology\",\n",
      "  \"type\": \"article\",\n",
      "  \"webPublicationDate\": \"2021-02-07T13:00:11Z\",\n",
      "  \"webTitle\": \"Are share-trading apps a safe way to play the markets?\",\n",
      "  \"webUrl\": \"https://www.theguardian.com/technology/2021/feb/07/are-share-trading-apps-a-safe-way-to-play-the-markets\"\n",
      "}\n"
     ]
    }
   ],
   "source": [
    "print(json.dumps(response['results'][0], indent=2, sort_keys=True))"
   ]
  },
  {
   "cell_type": "markdown",
   "metadata": {},
   "source": [
    "## Task 6. Response Statistics  \n",
    "\n",
    "Use Guardian's API to identify the count of all news stories published under the Technology section. List the page size and the number of pages in the result set.\n",
    "\n",
    "Note that I commented out ```'q' : 'privacy%20AND%20data'``` in the args few blocks above."
   ]
  },
  {
   "cell_type": "code",
   "execution_count": 13,
   "metadata": {},
   "outputs": [
    {
     "name": "stdout",
     "output_type": "stream",
     "text": [
      "Total news stories: 53939\n",
      "Pages: 540\n",
      "Page size: 100\n"
     ]
    }
   ],
   "source": [
    "# Solution to Task 6\n",
    "\n",
    "print('Total news stories:', response['total']) \n",
    "print('Pages:', response['pages'])\n",
    "print('Page size:', response['pageSize'])"
   ]
  },
  {
   "cell_type": "markdown",
   "metadata": {},
   "source": [
    "## Task 7. News Stories About a Specific Topic \n",
    "\n",
    "Return all stories in the technology section that are about privacy.\n",
    "\n",
    "Solution: ```'q' : 'privacy'```\n",
    "\n",
    "Filter the stories that talk about WhatsApp and Signal.  \n",
    "\n",
    "Solution: ```'q' : 'privacy%20AND%20whatsapp%20AND%20signal'```\n",
    "\n",
    "\n",
    "Are there any privacy stories talking about privacy, Whatsapp, and Signal that do not talk about AI? \n",
    "\n",
    "Solution: ```'q' : 'privacy%20AND%20whatsapp%20AND%20signal'```\n",
    "\n",
    "\n",
    "List these stories. Solution in the code cell below. \n",
    "\n",
    "\n",
    "Other search queries 7a and 7b are similar to Task 7. I list the attributes below. \n",
    "\n",
    "#### 7a. All News Stories About a Phrase \n",
    "\n",
    "Return all news stories that are about stock squeeze. \n",
    "\n",
    "```'q' : '%22short%20squeeze%22'```\n",
    "\n",
    "List the ones that are in the business section of the Guardian. \n",
    "\n",
    "```\n",
    "'q' : '%22short%20squeeze%22'\n",
    "'section' : 'business'\n",
    "```\n",
    "\n",
    "\n",
    "#### 7b. All News Stories About a Person \n",
    "\n",
    "Return all news stories about Elon Musk published by Guardian in 2020 and 2021.  \n",
    "\n",
    "How many of these news stories are about bitcoin?  Of the stories that are about Elon Musk and Bitcoin, how many of those do not mention Tesla?  \n",
    "\n",
    "```\n",
    "'from-date':'2020-01-01'\n",
    "'to-date':'2021-02-03'\n",
    "'order-by':'newest'\n",
    "'page:1'\n",
    "'q':'%22Elon%20Musk%22%20AND%20bitcoin%20AND%20NOT%20Tesla' \n",
    "```\n",
    "\\# q = \"Elon Musk\" AND bitcoin AND NOT Tesla\n",
    "\n",
    "Hints. In the search string, you could use ```%20``` for ```space```; ```%22``` for ```double quote```; ```AND``` for conjunction; ```OR``` for disjunction; and ```NOT``` for negation"
   ]
  },
  {
   "cell_type": "code",
   "execution_count": 14,
   "metadata": {},
   "outputs": [
    {
     "name": "stdout",
     "output_type": "stream",
     "text": [
      "Number of byes received: 6375\n",
      "The following are available:\n",
      "  ['currentPage', 'orderBy', 'pageSize', 'pages', 'results', 'startIndex', 'status', 'total', 'userTier']\n",
      "{\n",
      "  \"apiUrl\": \"https://content.guardianapis.com/technology/2021/jan/26/uk-regulator-to-write-to-whatsapp-over-facebook-data-sharing\",\n",
      "  \"id\": \"technology/2021/jan/26/uk-regulator-to-write-to-whatsapp-over-facebook-data-sharing\",\n",
      "  \"isHosted\": false,\n",
      "  \"pillarId\": \"pillar/news\",\n",
      "  \"pillarName\": \"News\",\n",
      "  \"sectionId\": \"technology\",\n",
      "  \"sectionName\": \"Technology\",\n",
      "  \"type\": \"article\",\n",
      "  \"webPublicationDate\": \"2021-01-26T16:38:32Z\",\n",
      "  \"webTitle\": \"UK regulator to write to WhatsApp over Facebook data sharing\",\n",
      "  \"webUrl\": \"https://www.theguardian.com/technology/2021/jan/26/uk-regulator-to-write-to-whatsapp-over-facebook-data-sharing\"\n",
      "}\n",
      "Total news stories: 32\n",
      "Pages: 4\n",
      "Page size: 10\n"
     ]
    }
   ],
   "source": [
    "# Solution to Task 7 below  \n",
    "\n",
    "args = {\n",
    "    'section': 'technology', \n",
    "    'order-by': 'newest', \n",
    "    'api-key': myapikey, \n",
    "    'page-size': '10',\n",
    "#     'q' : 'privacy' # All stories about privacy\n",
    "#     'q' : 'privacy%20AND%20whatsapp%20AND%20signal' # privacy stories mentioning WhatsApp and Signal \n",
    "    'q' : 'privacy%20AND%20whatsapp%20AND%20signal%20AND%20NOT%20(AI%20OR%20%22Artificial%20Intelligence%22)%20'\n",
    "    # privacy AND whatsapp AND signal AND NOT (AI OR \"Artificial Intelligence\"): stories not mentioning AI\n",
    "}\n",
    "\n",
    "# https://content.guardianapis.com/search?from-date=2020-01-01&to-date=2021-02-03&order-by=newest&page=1&q=%22Elon%20Musk%22%20AND%20bitcoin%20AND%20NOT%20Tesla&api-key=300efc2b-aa7f-4cac-b4ff-eff86a248059\n",
    "    \n",
    "\n",
    "# Construct the URL\n",
    "base_url = 'http://content.guardianapis.com/search'\n",
    "url = '{}?{}'.format(\n",
    "    base_url, \n",
    "    '&'.join([\"{}={}\".format(kk, vv) for kk, vv in args.items()])\n",
    ")\n",
    "\n",
    "# Make the request and extract the source\n",
    "req = requests.get(url) \n",
    "src = req.text\n",
    "\n",
    "print('Number of byes received:', len(src))\n",
    "\n",
    "# Parsing JSON\n",
    "response = json.loads(src)['response']\n",
    "print('The following are available:\\n ', sorted(response.keys()))\n",
    "\n",
    "# Verifying the status code\n",
    "assert response['status'] == 'ok'\n",
    "\n",
    "# Listing the results\n",
    "print(json.dumps(response['results'][0], indent=2, sort_keys=True))\n",
    "\n",
    "# Response statistics\n",
    "print('Total news stories:', response['total']) \n",
    "print('Pages:', response['pages'])\n",
    "print('Page size:', response['pageSize'])"
   ]
  },
  {
   "cell_type": "code",
   "execution_count": 15,
   "metadata": {},
   "outputs": [
    {
     "name": "stdout",
     "output_type": "stream",
     "text": [
      "https://www.theguardian.com/technology/2021/jan/26/uk-regulator-to-wri UK regulator to writ\n",
      "https://www.theguardian.com/technology/2021/jan/24/whatsapp-loses-mill WhatsApp loses milli\n",
      "https://www.theguardian.com/technology/2021/jan/24/is-it-time-to-leave Is it time to leave \n",
      "https://www.theguardian.com/technology/2021/jan/16/should-you-keep-usi Should you keep usin\n",
      "https://www.theguardian.com/technology/askjack/2018/jun/28/can-my-empl Can my employer read\n",
      "https://www.theguardian.com/technology/2018/mar/31/youve-decided-to-de You’ve decided to de\n",
      "https://www.theguardian.com/technology/2018/feb/05/whatsapp-deleting-y I deleted WhatsApp f\n",
      "https://www.theguardian.com/technology/2017/jul/14/forcing-facebook-go Australia's plan to \n",
      "https://www.theguardian.com/technology/2017/jun/19/eu-outlaw-backdoors EU seeks to outlaw '\n",
      "https://www.theguardian.com/technology/2017/jun/12/george-brandiss-sal George Brandis's sal\n"
     ]
    }
   ],
   "source": [
    "# This cell is part of the initial iPython notebook that was shared.\n",
    "\n",
    "for result in response['results']: \n",
    "    print(result['webUrl'][:70], result['webTitle'][:20])"
   ]
  },
  {
   "cell_type": "markdown",
   "metadata": {},
   "source": [
    "## Task 8. Request Specific Content from the API\n",
    "\n",
    "Fetch the ith result from the list obtained from on the search query formed in Task 7. \n",
    "\n",
    "Identify the id of the ith result and fetch the headline and body text of the news story.  "
   ]
  },
  {
   "cell_type": "markdown",
   "metadata": {},
   "source": [
    "### Solution \n",
    "#### 1. Fetching the ith result\n",
    "\n",
    "Let's now request a specific piece of content from the API. \n",
    "\n",
    "We select the ith result from the above response and get its ```apiUrl``` and ```id```:"
   ]
  },
  {
   "cell_type": "code",
   "execution_count": 16,
   "metadata": {},
   "outputs": [
    {
     "name": "stdout",
     "output_type": "stream",
     "text": [
      "https://content.guardianapis.com/technology/2021/jan/26/uk-regulator-to-write-to-whatsapp-over-facebook-data-sharing\n",
      "technology/2021/jan/26/uk-regulator-to-write-to-whatsapp-over-facebook-data-sharing\n"
     ]
    }
   ],
   "source": [
    "i = 0\n",
    "api_url = response['results'][i]['apiUrl']\n",
    "api_id = response['results'][i]['id']\n",
    "\n",
    "print(api_url)\n",
    "print(api_id)"
   ]
  },
  {
   "cell_type": "markdown",
   "metadata": {},
   "source": [
    "#### 2. Fetching the headline and body text of the news story with id \n",
    "\n",
    "We then use the ```id``` to contstruct a search url string to request this piece of content from the API.\n",
    "\n",
    "(Note that you need to include the ```api-key``` in the search. You also need to specify if you want to include data fields other than the article metadata e.g. ```body``` and ```headline``` are included in the example below.)"
   ]
  },
  {
   "cell_type": "code",
   "execution_count": 17,
   "metadata": {},
   "outputs": [
    {
     "name": "stdout",
     "output_type": "stream",
     "text": [
      "https://content.guardianapis.com/search?ids=technology/2021/jan/26/uk-regulator-to-write-to-whatsapp-over-facebook-data-sharing&api-key=300efc2b-aa7f-4cac-b4ff-eff86a248059&show-fields=headline,body\n"
     ]
    }
   ],
   "source": [
    "base_url = \"https://content.guardianapis.com/search?\"\n",
    "search_string = \"ids=%s&api-key=%s&show-fields=headline,body\" %(api_id, myapikey)\n",
    "\n",
    "url = base_url + search_string\n",
    "print(url)"
   ]
  },
  {
   "cell_type": "code",
   "execution_count": 18,
   "metadata": {},
   "outputs": [],
   "source": [
    "req = requests.get(url) \n",
    "src = req.text"
   ]
  },
  {
   "cell_type": "code",
   "execution_count": 19,
   "metadata": {},
   "outputs": [],
   "source": [
    "response = json.loads(src)['response']\n",
    "assert response['status'] == 'ok'"
   ]
  },
  {
   "cell_type": "code",
   "execution_count": 20,
   "metadata": {},
   "outputs": [
    {
     "name": "stdout",
     "output_type": "stream",
     "text": [
      "UK regulator to write to WhatsApp over Facebook data sharing\n"
     ]
    }
   ],
   "source": [
    "print(response['results'][0]['fields']['headline'])"
   ]
  },
  {
   "cell_type": "code",
   "execution_count": 21,
   "metadata": {},
   "outputs": [
    {
     "name": "stdout",
     "output_type": "stream",
     "text": [
      "<p>The UK’s data regulator is writing to WhatsApp to demand that the chat app does not hand user data to Facebook, as millions worldwide continue to sign up for alternatives such as Signal and Telegram to avoid forthcoming changes to its terms of service.</p> <p>Elizabeth Denham, the information commissioner, told a parliamentary committee that in 2017, WhatsApp had committed not to hand any user information over to Facebook until it could prove that doing so respected GDPR.</p> <p>But, she said, that agreement was enforced by the Irish data protection authority until the Brexit transition period ended on 1 January. Now that Britain is fully outside the EU, ensuring that those promises are being kept falls to the Information Commissioner’s Office.</p> <p>“The change in the terms of service, and the requirement of users to share information with Facebook, does not apply to UK users or to users in the EU,” Denham told the digital, culture, media and sport sub-committee on online harms and disinformation, “and that’s because in 2017 my office negotiated with WhatsApp so that they agreed not to share user information and contact information until they could show that they complied with the GDPR.”</p> <p>Asked by the committee chair whether there was any more recent agreement than the 2017 one, however, Denham said there was not. “Up until 1 January, it was the Irish data protection authority’s job to oversee the activity of WhatsApp. As long as we were in the transition period, the one-stop-shop meant it was my Irish colleague who was responsible for WhatsApp. That’s changed now.”</p> <p>The information commissioner also revealed that she uses Signal, a privacy-focused competitor to WhatsApp, for her personal messaging, and does not have an account with either Facebook or WhatsApp.</p> <p>“What’s really interesting about WhatsApp’s announcement on its ongoing sharing with Facebook is how many users voted with their virtual feet and left the platform to take up membership with Telegram or Signal,” she added.</p> <p>“Users expect companies to maintain their trust and not to suddenly change the contract that they have with the users, and I think it’s an example of users being concerned about the trustworthiness and the sustainability of the promises made to users.”</p> <aside class=\"element element-rich-link element--thumbnail\"> <p> <span>Related: </span><a href=\"https://www.theguardian.com/technology/2021/jan/16/should-you-keep-using-whatsapp-plus-five-tips-to-start-the-year-with-your-digital-privacy-intact\">Should you keep using WhatsApp? Plus five tips to start the year with your digital privacy intact</a> </p> </aside>  <p>The <a href=\"https://www.theguardian.com/technology/2021/jan/24/whatsapp-loses-millions-of-users-after-terms-update\">user exodus from WhatsApp</a> began in early July, when the company announced plans to implement a new privacy policy on 8 February. Those plans, which have now been delayed to early summer, caused substantial panic among the app’s users. Some of the concern was around changes that explicitly spelled out, for the first time, the existing data-sharing arrangements between WhatsApp and Facebook outside the “European region”, which includes the EU and UK.</p> <p>Others were concerned by misinformation, ironically spread on WhatsApp itself, that the new terms of service would allow Facebook to read user messages. That is not the case – the end-to-end encryption applied by WhatsApp prevents Facebook from accessing message contents even if it desired, but the claim spread far enough for WhatsApp to buy advertising declaring: “Neither WhatsApp nor Facebook can read your messages or hear your calls.”</p> <p>Signal and Telegram, the two big beneficiaries of the panic, have added millions of users each in the first three weeks of January. Signal, which was not in the top 1,000 apps in Britain at the beginning of the year, spent several days as the most downloaded app in the country, and has gained 7.5 million users globally.</p>\n"
     ]
    }
   ],
   "source": [
    "body = response['results'][0]['fields']['body']\n",
    "print(body)"
   ]
  },
  {
   "cell_type": "markdown",
   "metadata": {},
   "source": [
    "#### 3. Simple Text Processing: Count Word Frequencies and Store in a Data Frame\n",
    "\n",
    "We can now do some simple text processing on the article text. e.g. count the word frequnecies:"
   ]
  },
  {
   "cell_type": "code",
   "execution_count": 22,
   "metadata": {},
   "outputs": [
    {
     "name": "stdout",
     "output_type": "stream",
     "text": [
      "591\n",
      "338\n"
     ]
    }
   ],
   "source": [
    "words = body.replace('<p>','').replace('</p>','').split()\n",
    "print(len(words))\n",
    "unique_words = list(set(words))\n",
    "print(len(unique_words))\n",
    "#count_dictionary = {word: count for word, count in zip(words, [words.count(w) for w in words])}\n",
    "count_dictionary = {'word': unique_words, 'count': [words.count(w) for w in unique_words]}"
   ]
  },
  {
   "cell_type": "code",
   "execution_count": 23,
   "metadata": {},
   "outputs": [],
   "source": [
    "import pandas as pd"
   ]
  },
  {
   "cell_type": "code",
   "execution_count": 24,
   "metadata": {},
   "outputs": [
    {
     "data": {
      "text/html": [
       "<div>\n",
       "<style scoped>\n",
       "    .dataframe tbody tr th:only-of-type {\n",
       "        vertical-align: middle;\n",
       "    }\n",
       "\n",
       "    .dataframe tbody tr th {\n",
       "        vertical-align: top;\n",
       "    }\n",
       "\n",
       "    .dataframe thead th {\n",
       "        text-align: right;\n",
       "    }\n",
       "</style>\n",
       "<table border=\"1\" class=\"dataframe\">\n",
       "  <thead>\n",
       "    <tr style=\"text-align: right;\">\n",
       "      <th></th>\n",
       "      <th>word</th>\n",
       "      <th>count</th>\n",
       "    </tr>\n",
       "  </thead>\n",
       "  <tbody>\n",
       "    <tr>\n",
       "      <th>18</th>\n",
       "      <td>the</td>\n",
       "      <td>43</td>\n",
       "    </tr>\n",
       "    <tr>\n",
       "      <th>162</th>\n",
       "      <td>to</td>\n",
       "      <td>24</td>\n",
       "    </tr>\n",
       "    <tr>\n",
       "      <th>27</th>\n",
       "      <td>and</td>\n",
       "      <td>14</td>\n",
       "    </tr>\n",
       "    <tr>\n",
       "      <th>224</th>\n",
       "      <td>of</td>\n",
       "      <td>12</td>\n",
       "    </tr>\n",
       "    <tr>\n",
       "      <th>6</th>\n",
       "      <td>that</td>\n",
       "      <td>12</td>\n",
       "    </tr>\n",
       "    <tr>\n",
       "      <th>...</th>\n",
       "      <td>...</td>\n",
       "      <td>...</td>\n",
       "    </tr>\n",
       "    <tr>\n",
       "      <th>132</th>\n",
       "      <td>Information</td>\n",
       "      <td>1</td>\n",
       "    </tr>\n",
       "    <tr>\n",
       "      <th>130</th>\n",
       "      <td>media</td>\n",
       "      <td>1</td>\n",
       "    </tr>\n",
       "    <tr>\n",
       "      <th>129</th>\n",
       "      <td>days</td>\n",
       "      <td>1</td>\n",
       "    </tr>\n",
       "    <tr>\n",
       "      <th>128</th>\n",
       "      <td>users.”</td>\n",
       "      <td>1</td>\n",
       "    </tr>\n",
       "    <tr>\n",
       "      <th>337</th>\n",
       "      <td>think</td>\n",
       "      <td>1</td>\n",
       "    </tr>\n",
       "  </tbody>\n",
       "</table>\n",
       "<p>338 rows × 2 columns</p>\n",
       "</div>"
      ],
      "text/plain": [
       "            word  count\n",
       "18           the     43\n",
       "162           to     24\n",
       "27           and     14\n",
       "224           of     12\n",
       "6           that     12\n",
       "..           ...    ...\n",
       "132  Information      1\n",
       "130        media      1\n",
       "129         days      1\n",
       "128      users.”      1\n",
       "337        think      1\n",
       "\n",
       "[338 rows x 2 columns]"
      ]
     },
     "execution_count": 24,
     "metadata": {},
     "output_type": "execute_result"
    }
   ],
   "source": [
    "df = pd.DataFrame(count_dictionary)\n",
    "df.sort_values(by='count', ascending=False)\n",
    "\n",
    "# We could export the data frame in a CSV and observe the complete output\n",
    "# df.to_csv('term-frequency.csv')"
   ]
  },
  {
   "cell_type": "markdown",
   "metadata": {},
   "source": [
    "We now have a dataframe with word occurence frequency in the article. Try importing the data frame to a CSV.\n",
    "\n",
    "We notice because of punctuation marks some words appear more than once.  For instance, ```UK``` also occurs as ```UK.``` and ```Signal``` also occurs as ```Signal,``` and ```Signal,\"```. \n",
    "\n",
    "One option to fix this would be to strip out the punctuation using Python string manipulation. \n",
    "\n",
    "You could also use regular expressions to remove the punctuations. \n",
    "\n",
    "Below is an imperfect solution using regular expressions. You could probably find a better solution. "
   ]
  },
  {
   "cell_type": "code",
   "execution_count": 25,
   "metadata": {},
   "outputs": [],
   "source": [
    "import re  ## imports the regular expression library\n",
    "words_wo_punctuation = re.sub(r'[^\\w\\s]','',body.replace('<p>','').replace('</p>','')).split()  "
   ]
  },
  {
   "cell_type": "markdown",
   "metadata": {},
   "source": [
    "Note that the regex ```r'[^\\w\\s]'``` substitutes anything in ```body``` that is not a word ```\\w``` or and blank space ```\\s``` with the empty string ```''```."
   ]
  },
  {
   "cell_type": "code",
   "execution_count": 26,
   "metadata": {},
   "outputs": [
    {
     "name": "stdout",
     "output_type": "stream",
     "text": [
      "301\n"
     ]
    }
   ],
   "source": [
    "unique_words = list(set(words_wo_punctuation))\n",
    "print(len(unique_words))\n",
    "count_dictionary = {'word': unique_words, 'count': [words_wo_punctuation.count(w) for w in unique_words]}"
   ]
  },
  {
   "cell_type": "code",
   "execution_count": 27,
   "metadata": {},
   "outputs": [
    {
     "data": {
      "text/html": [
       "<div>\n",
       "<style scoped>\n",
       "    .dataframe tbody tr th:only-of-type {\n",
       "        vertical-align: middle;\n",
       "    }\n",
       "\n",
       "    .dataframe tbody tr th {\n",
       "        vertical-align: top;\n",
       "    }\n",
       "\n",
       "    .dataframe thead th {\n",
       "        text-align: right;\n",
       "    }\n",
       "</style>\n",
       "<table border=\"1\" class=\"dataframe\">\n",
       "  <thead>\n",
       "    <tr style=\"text-align: right;\">\n",
       "      <th></th>\n",
       "      <th>word</th>\n",
       "      <th>count</th>\n",
       "    </tr>\n",
       "  </thead>\n",
       "  <tbody>\n",
       "    <tr>\n",
       "      <th>59</th>\n",
       "      <td>the</td>\n",
       "      <td>43</td>\n",
       "    </tr>\n",
       "    <tr>\n",
       "      <th>275</th>\n",
       "      <td>to</td>\n",
       "      <td>24</td>\n",
       "    </tr>\n",
       "    <tr>\n",
       "      <th>107</th>\n",
       "      <td>and</td>\n",
       "      <td>15</td>\n",
       "    </tr>\n",
       "    <tr>\n",
       "      <th>86</th>\n",
       "      <td>WhatsApp</td>\n",
       "      <td>13</td>\n",
       "    </tr>\n",
       "    <tr>\n",
       "      <th>20</th>\n",
       "      <td>that</td>\n",
       "      <td>12</td>\n",
       "    </tr>\n",
       "    <tr>\n",
       "      <th>...</th>\n",
       "      <td>...</td>\n",
       "      <td>...</td>\n",
       "    </tr>\n",
       "    <tr>\n",
       "      <th>130</th>\n",
       "      <td>itself</td>\n",
       "      <td>1</td>\n",
       "    </tr>\n",
       "    <tr>\n",
       "      <th>131</th>\n",
       "      <td>prevents</td>\n",
       "      <td>1</td>\n",
       "    </tr>\n",
       "    <tr>\n",
       "      <th>132</th>\n",
       "      <td>sign</td>\n",
       "      <td>1</td>\n",
       "    </tr>\n",
       "    <tr>\n",
       "      <th>134</th>\n",
       "      <td>office</td>\n",
       "      <td>1</td>\n",
       "    </tr>\n",
       "    <tr>\n",
       "      <th>300</th>\n",
       "      <td>July</td>\n",
       "      <td>1</td>\n",
       "    </tr>\n",
       "  </tbody>\n",
       "</table>\n",
       "<p>301 rows × 2 columns</p>\n",
       "</div>"
      ],
      "text/plain": [
       "         word  count\n",
       "59        the     43\n",
       "275        to     24\n",
       "107       and     15\n",
       "86   WhatsApp     13\n",
       "20       that     12\n",
       "..        ...    ...\n",
       "130    itself      1\n",
       "131  prevents      1\n",
       "132      sign      1\n",
       "134    office      1\n",
       "300      July      1\n",
       "\n",
       "[301 rows x 2 columns]"
      ]
     },
     "execution_count": 27,
     "metadata": {},
     "output_type": "execute_result"
    }
   ],
   "source": [
    "df = pd.DataFrame(count_dictionary)\n",
    "df.sort_values(by='count', ascending=False)\n",
    "\n",
    "# We could export the data frame in a CSV and observe the complete output\n",
    "# df.to_csv('term-frequency-regex.csv')\n",
    "# Open the CSV in a text editor or a spread sheet and analyse the output"
   ]
  },
  {
   "cell_type": "markdown",
   "metadata": {},
   "source": [
    "This Python Regular Expression cheatsheet (Courtesy: Laura Gemmel) is useful: \n",
    "https://www.dataquest.io/wp-content/uploads/2019/03/python-regular-expressions-cheat-sheet.pdf\n",
    "\n",
    "Use the cheat sheet to create a better regular expression and filter the body text. \n",
    "Post your solutions on the BB forum."
   ]
  },
  {
   "cell_type": "code",
   "execution_count": null,
   "metadata": {},
   "outputs": [],
   "source": []
  }
 ],
 "metadata": {
  "kernelspec": {
   "display_name": "Python 3",
   "language": "python",
   "name": "python3"
  },
  "language_info": {
   "codemirror_mode": {
    "name": "ipython",
    "version": 3
   },
   "file_extension": ".py",
   "mimetype": "text/x-python",
   "name": "python",
   "nbconvert_exporter": "python",
   "pygments_lexer": "ipython3",
   "version": "3.8.5"
  }
 },
 "nbformat": 4,
 "nbformat_minor": 4
}
